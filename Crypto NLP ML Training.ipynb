{
 "cells": [
  {
   "cell_type": "code",
   "execution_count": 46,
   "id": "709125d0-ebeb-4daa-88e7-a0b0010b8a1f",
   "metadata": {},
   "outputs": [],
   "source": [
    "import pickle\n",
    "import numpy as np\n",
    "import pandas as pd\n",
    "import re\n",
    "from nltk.corpus import stopwords\n",
    "from nltk.stem.porter import PorterStemmer\n",
    "from sklearn.feature_extraction.text import TfidfVectorizer\n",
    "from sklearn.model_selection import train_test_split\n",
    "from sklearn.linear_model import LogisticRegression\n",
    "from sklearn.metrics import accuracy_score"
   ]
  },
  {
   "cell_type": "code",
   "execution_count": 47,
   "id": "b48d0639-ea30-4b5b-bc5b-aaad177a358d",
   "metadata": {},
   "outputs": [
    {
     "name": "stderr",
     "output_type": "stream",
     "text": [
      "[nltk_data] Downloading package stopwords to\n",
      "[nltk_data]     C:\\Users\\nicks\\AppData\\Roaming\\nltk_data...\n",
      "[nltk_data]   Package stopwords is already up-to-date!\n"
     ]
    },
    {
     "data": {
      "text/plain": [
       "True"
      ]
     },
     "execution_count": 47,
     "metadata": {},
     "output_type": "execute_result"
    }
   ],
   "source": [
    "import nltk\n",
    "nltk.download('stopwords')"
   ]
  },
  {
   "cell_type": "code",
   "execution_count": 49,
   "id": "45e98792-6251-4075-b1e7-9d5756ac278b",
   "metadata": {},
   "outputs": [],
   "source": [
    "df = pd.read_csv('modified_data.csv', encoding='ISO-8859-1')"
   ]
  },
  {
   "cell_type": "code",
   "execution_count": 50,
   "id": "b0d8b36b-20c8-492d-93e2-6b69dedaa44e",
   "metadata": {},
   "outputs": [
    {
     "data": {
      "text/html": [
       "<div>\n",
       "<style scoped>\n",
       "    .dataframe tbody tr th:only-of-type {\n",
       "        vertical-align: middle;\n",
       "    }\n",
       "\n",
       "    .dataframe tbody tr th {\n",
       "        vertical-align: top;\n",
       "    }\n",
       "\n",
       "    .dataframe thead th {\n",
       "        text-align: right;\n",
       "    }\n",
       "</style>\n",
       "<table border=\"1\" class=\"dataframe\">\n",
       "  <thead>\n",
       "    <tr style=\"text-align: right;\">\n",
       "      <th></th>\n",
       "      <th>Unnamed: 0</th>\n",
       "      <th>target</th>\n",
       "      <th>id</th>\n",
       "      <th>date</th>\n",
       "      <th>flag</th>\n",
       "      <th>user</th>\n",
       "      <th>text</th>\n",
       "      <th>stemmed_content</th>\n",
       "    </tr>\n",
       "  </thead>\n",
       "  <tbody>\n",
       "    <tr>\n",
       "      <th>0</th>\n",
       "      <td>0</td>\n",
       "      <td>0</td>\n",
       "      <td>1467810369</td>\n",
       "      <td>Mon Apr 06 22:19:45 PDT 2009</td>\n",
       "      <td>NO_QUERY</td>\n",
       "      <td>_TheSpecialOne_</td>\n",
       "      <td>@switchfoot http://twitpic.com/2y1zl - Awww, t...</td>\n",
       "      <td>switchfoot http twitpic com zl awww bummer sho...</td>\n",
       "    </tr>\n",
       "    <tr>\n",
       "      <th>1</th>\n",
       "      <td>1</td>\n",
       "      <td>0</td>\n",
       "      <td>1467810672</td>\n",
       "      <td>Mon Apr 06 22:19:49 PDT 2009</td>\n",
       "      <td>NO_QUERY</td>\n",
       "      <td>scotthamilton</td>\n",
       "      <td>is upset that he can't update his Facebook by ...</td>\n",
       "      <td>upset updat facebook text might cri result sch...</td>\n",
       "    </tr>\n",
       "    <tr>\n",
       "      <th>2</th>\n",
       "      <td>2</td>\n",
       "      <td>0</td>\n",
       "      <td>1467810917</td>\n",
       "      <td>Mon Apr 06 22:19:53 PDT 2009</td>\n",
       "      <td>NO_QUERY</td>\n",
       "      <td>mattycus</td>\n",
       "      <td>@Kenichan I dived many times for the ball. Man...</td>\n",
       "      <td>kenichan dive mani time ball manag save rest g...</td>\n",
       "    </tr>\n",
       "    <tr>\n",
       "      <th>3</th>\n",
       "      <td>3</td>\n",
       "      <td>0</td>\n",
       "      <td>1467811184</td>\n",
       "      <td>Mon Apr 06 22:19:57 PDT 2009</td>\n",
       "      <td>NO_QUERY</td>\n",
       "      <td>ElleCTF</td>\n",
       "      <td>my whole body feels itchy and like its on fire</td>\n",
       "      <td>whole bodi feel itchi like fire</td>\n",
       "    </tr>\n",
       "    <tr>\n",
       "      <th>4</th>\n",
       "      <td>4</td>\n",
       "      <td>0</td>\n",
       "      <td>1467811193</td>\n",
       "      <td>Mon Apr 06 22:19:57 PDT 2009</td>\n",
       "      <td>NO_QUERY</td>\n",
       "      <td>Karoli</td>\n",
       "      <td>@nationwideclass no, it's not behaving at all....</td>\n",
       "      <td>nationwideclass behav mad see</td>\n",
       "    </tr>\n",
       "  </tbody>\n",
       "</table>\n",
       "</div>"
      ],
      "text/plain": [
       "   Unnamed: 0  target          id                          date      flag  \\\n",
       "0           0       0  1467810369  Mon Apr 06 22:19:45 PDT 2009  NO_QUERY   \n",
       "1           1       0  1467810672  Mon Apr 06 22:19:49 PDT 2009  NO_QUERY   \n",
       "2           2       0  1467810917  Mon Apr 06 22:19:53 PDT 2009  NO_QUERY   \n",
       "3           3       0  1467811184  Mon Apr 06 22:19:57 PDT 2009  NO_QUERY   \n",
       "4           4       0  1467811193  Mon Apr 06 22:19:57 PDT 2009  NO_QUERY   \n",
       "\n",
       "              user                                               text  \\\n",
       "0  _TheSpecialOne_  @switchfoot http://twitpic.com/2y1zl - Awww, t...   \n",
       "1    scotthamilton  is upset that he can't update his Facebook by ...   \n",
       "2         mattycus  @Kenichan I dived many times for the ball. Man...   \n",
       "3          ElleCTF    my whole body feels itchy and like its on fire    \n",
       "4           Karoli  @nationwideclass no, it's not behaving at all....   \n",
       "\n",
       "                                     stemmed_content  \n",
       "0  switchfoot http twitpic com zl awww bummer sho...  \n",
       "1  upset updat facebook text might cri result sch...  \n",
       "2  kenichan dive mani time ball manag save rest g...  \n",
       "3                    whole bodi feel itchi like fire  \n",
       "4                      nationwideclass behav mad see  "
      ]
     },
     "execution_count": 50,
     "metadata": {},
     "output_type": "execute_result"
    }
   ],
   "source": [
    "df.head()"
   ]
  },
  {
   "cell_type": "code",
   "execution_count": 51,
   "id": "f7e61404-b034-4565-8da6-7e77ecd844e3",
   "metadata": {},
   "outputs": [
    {
     "data": {
      "text/html": [
       "<div>\n",
       "<style scoped>\n",
       "    .dataframe tbody tr th:only-of-type {\n",
       "        vertical-align: middle;\n",
       "    }\n",
       "\n",
       "    .dataframe tbody tr th {\n",
       "        vertical-align: top;\n",
       "    }\n",
       "\n",
       "    .dataframe thead th {\n",
       "        text-align: right;\n",
       "    }\n",
       "</style>\n",
       "<table border=\"1\" class=\"dataframe\">\n",
       "  <thead>\n",
       "    <tr style=\"text-align: right;\">\n",
       "      <th></th>\n",
       "      <th>tweets</th>\n",
       "    </tr>\n",
       "  </thead>\n",
       "  <tbody>\n",
       "    <tr>\n",
       "      <th>0</th>\n",
       "      <td>Ready to embrace the slimy adventure? Share yo...</td>\n",
       "    </tr>\n",
       "    <tr>\n",
       "      <th>1</th>\n",
       "      <td>This is why we #bitcoin</td>\n",
       "    </tr>\n",
       "    <tr>\n",
       "      <th>2</th>\n",
       "      <td>Motokos are coming to Bitcoin Ordinals! All as...</td>\n",
       "    </tr>\n",
       "    <tr>\n",
       "      <th>3</th>\n",
       "      <td>A family member called and said: you should co...</td>\n",
       "    </tr>\n",
       "    <tr>\n",
       "      <th>4</th>\n",
       "      <td>JUST IN: Fidelity, the world's third-largest a...</td>\n",
       "    </tr>\n",
       "  </tbody>\n",
       "</table>\n",
       "</div>"
      ],
      "text/plain": [
       "                                              tweets\n",
       "0  Ready to embrace the slimy adventure? Share yo...\n",
       "1                            This is why we #bitcoin\n",
       "2  Motokos are coming to Bitcoin Ordinals! All as...\n",
       "3  A family member called and said: you should co...\n",
       "4  JUST IN: Fidelity, the world's third-largest a..."
      ]
     },
     "execution_count": 51,
     "metadata": {},
     "output_type": "execute_result"
    }
   ],
   "source": [
    "twitter_data = pd.read_excel('tweets1.xlsx', names=['tweets'])\n",
    "twitter_data.head()"
   ]
  },
  {
   "cell_type": "code",
   "execution_count": 52,
   "id": "07b6342b-2c50-4df7-889f-0f5823fbd2ad",
   "metadata": {},
   "outputs": [],
   "source": [
    "#stemming\n",
    "port_stem = PorterStemmer()\n",
    "\n",
    "def stemming(content):\n",
    "\n",
    "    stemmed_content = re.sub('[^a-zA-Z]', ' ', content)\n",
    "    stemmed_content = stemmed_content.lower()\n",
    "    stemmed_content = stemmed_content.split()\n",
    "    stemmed_content = [port_stem.stem(word) for word in stemmed_content if not word in stopwords.words('english')]\n",
    "    stemmed_content = ' '.join(stemmed_content)\n",
    "\n",
    "    return stemmed_content"
   ]
  },
  {
   "cell_type": "code",
   "execution_count": 53,
   "id": "8082b511-97aa-46e1-9e32-ba488d8ce61c",
   "metadata": {},
   "outputs": [],
   "source": [
    "twitter_data['stemmed_tweets'] = twitter_data['tweets'].apply(stemming)"
   ]
  },
  {
   "cell_type": "code",
   "execution_count": 54,
   "id": "d324b757-149b-4b9d-b345-812b31b508c7",
   "metadata": {},
   "outputs": [
    {
     "data": {
      "text/html": [
       "<div>\n",
       "<style scoped>\n",
       "    .dataframe tbody tr th:only-of-type {\n",
       "        vertical-align: middle;\n",
       "    }\n",
       "\n",
       "    .dataframe tbody tr th {\n",
       "        vertical-align: top;\n",
       "    }\n",
       "\n",
       "    .dataframe thead th {\n",
       "        text-align: right;\n",
       "    }\n",
       "</style>\n",
       "<table border=\"1\" class=\"dataframe\">\n",
       "  <thead>\n",
       "    <tr style=\"text-align: right;\">\n",
       "      <th></th>\n",
       "      <th>tweets</th>\n",
       "      <th>stemmed_tweets</th>\n",
       "    </tr>\n",
       "  </thead>\n",
       "  <tbody>\n",
       "    <tr>\n",
       "      <th>0</th>\n",
       "      <td>Ready to embrace the slimy adventure? Share yo...</td>\n",
       "      <td>readi embrac slimi adventur share excit chanc ...</td>\n",
       "    </tr>\n",
       "    <tr>\n",
       "      <th>1</th>\n",
       "      <td>This is why we #bitcoin</td>\n",
       "      <td>bitcoin</td>\n",
       "    </tr>\n",
       "    <tr>\n",
       "      <th>2</th>\n",
       "      <td>Motokos are coming to Bitcoin Ordinals! All as...</td>\n",
       "      <td>motoko come bitcoin ordin asset fulli inscrib ...</td>\n",
       "    </tr>\n",
       "    <tr>\n",
       "      <th>3</th>\n",
       "      <td>A family member called and said: you should co...</td>\n",
       "      <td>famili member call said consid sell bitcoin pr...</td>\n",
       "    </tr>\n",
       "    <tr>\n",
       "      <th>4</th>\n",
       "      <td>JUST IN: Fidelity, the world's third-largest a...</td>\n",
       "      <td>fidel world third largest asset manag file spo...</td>\n",
       "    </tr>\n",
       "  </tbody>\n",
       "</table>\n",
       "</div>"
      ],
      "text/plain": [
       "                                              tweets  \\\n",
       "0  Ready to embrace the slimy adventure? Share yo...   \n",
       "1                            This is why we #bitcoin   \n",
       "2  Motokos are coming to Bitcoin Ordinals! All as...   \n",
       "3  A family member called and said: you should co...   \n",
       "4  JUST IN: Fidelity, the world's third-largest a...   \n",
       "\n",
       "                                      stemmed_tweets  \n",
       "0  readi embrac slimi adventur share excit chanc ...  \n",
       "1                                            bitcoin  \n",
       "2  motoko come bitcoin ordin asset fulli inscrib ...  \n",
       "3  famili member call said consid sell bitcoin pr...  \n",
       "4  fidel world third largest asset manag file spo...  "
      ]
     },
     "execution_count": 54,
     "metadata": {},
     "output_type": "execute_result"
    }
   ],
   "source": [
    "twitter_data.head()"
   ]
  },
  {
   "cell_type": "code",
   "execution_count": 67,
   "id": "d79bb558-03c8-4aa8-ad2d-d67ee507a91e",
   "metadata": {},
   "outputs": [],
   "source": [
    "#model will train with the stemmed_content and sentiment data\n",
    "\n",
    "stemmed_content = df['stemmed_content'].values\n",
    "sentiment = df['target'].values\n",
    "stemmed_tweets = twitter_data['stemmed_tweets'].values"
   ]
  },
  {
   "cell_type": "code",
   "execution_count": 68,
   "id": "7dce5406-636c-41e1-9300-5e9af1c70693",
   "metadata": {},
   "outputs": [],
   "source": [
    "#converting to numerical data\n",
    "vectorizer = TfidfVectorizer()\n",
    "\n",
    "stemmed_content = vectorizer.fit_transform(stemmed_content.astype('U'))\n",
    "stemmed_tweets = vectorizer.transform(stemmed_tweets.astype('U'))"
   ]
  },
  {
   "cell_type": "code",
   "execution_count": 71,
   "id": "7b071f8b-0b0c-41ec-85a2-0d999e0ad797",
   "metadata": {},
   "outputs": [
    {
     "name": "stdout",
     "output_type": "stream",
     "text": [
      "  (0, 511609)\t0.2014493271562646\n",
      "  (0, 511215)\t0.14806239262396897\n",
      "  (0, 475185)\t0.16349708336822796\n",
      "  (0, 454488)\t0.19997131820935704\n",
      "  (0, 438342)\t0.1986092812645946\n",
      "  (0, 429484)\t0.21408785268798614\n",
      "  (0, 429427)\t0.2822826635741988\n",
      "  (0, 418400)\t0.16530459240273213\n",
      "  (0, 391354)\t0.19399975285968496\n",
      "  (0, 386406)\t0.13365541338418171\n",
      "  (0, 350435)\t0.21102578125447402\n",
      "  (0, 271004)\t0.09273560472176315\n",
      "  (0, 268654)\t0.1270606185742737\n",
      "  (0, 234804)\t0.18386735930435708\n",
      "  (0, 232030)\t0.16338184258075175\n",
      "  (0, 206988)\t0.22192661873316336\n",
      "  (0, 183190)\t0.32292200160876233\n",
      "  (0, 145027)\t0.23123432161903967\n",
      "  (0, 144958)\t0.13638283388258424\n",
      "  (0, 136598)\t0.23966574184360323\n",
      "  (0, 76922)\t0.33656106741884567\n",
      "  (0, 45700)\t0.19595564356902753\n",
      "  (0, 33317)\t0.13652331882788704\n",
      "  (0, 5636)\t0.1996520575726155\n",
      "  (2, 493081)\t0.1276912454220447\n",
      "  :\t:\n",
      "  (22, 196471)\t0.2601948545970114\n",
      "  (22, 116445)\t0.34980491589000556\n",
      "  (22, 52519)\t0.3797940309167975\n",
      "  (23, 462103)\t0.12160571136189788\n",
      "  (23, 446735)\t0.19622557739334653\n",
      "  (23, 433192)\t0.259988673994749\n",
      "  (23, 417410)\t0.28986599799627577\n",
      "  (23, 413562)\t0.18205989278858586\n",
      "  (23, 393737)\t0.10046510834373154\n",
      "  (23, 357284)\t0.14284631339025183\n",
      "  (23, 355668)\t0.2189600159401669\n",
      "  (23, 333264)\t0.1323708192346824\n",
      "  (23, 307995)\t0.22801844555225145\n",
      "  (23, 263238)\t0.0954608203222341\n",
      "  (23, 237768)\t0.13767574007016112\n",
      "  (23, 162340)\t0.12643560257463\n",
      "  (23, 132826)\t0.16694095929239045\n",
      "  (23, 110585)\t0.17023897433426088\n",
      "  (23, 98576)\t0.27166459750021316\n",
      "  (23, 92968)\t0.17500540717628227\n",
      "  (23, 90966)\t0.09404465428850384\n",
      "  (23, 89988)\t0.20533157175679487\n",
      "  (23, 63246)\t0.5246566842068118\n",
      "  (23, 52707)\t0.16228933860333256\n",
      "  (23, 30790)\t0.2367461214537484\n"
     ]
    }
   ],
   "source": [
    "print(stemmed_tweets)"
   ]
  },
  {
   "cell_type": "code",
   "execution_count": 72,
   "id": "21d15685-62cf-4f47-a9ee-5de4e539a473",
   "metadata": {},
   "outputs": [],
   "source": [
    "#Logistic regression ML model\n",
    "\n",
    "model = LogisticRegression(max_iter=1000)"
   ]
  },
  {
   "cell_type": "code",
   "execution_count": 73,
   "id": "f26332fc-7bad-46b7-aa82-3dc8b73ed70c",
   "metadata": {},
   "outputs": [
    {
     "data": {
      "text/html": [
       "<style>#sk-container-id-2 {color: black;background-color: white;}#sk-container-id-2 pre{padding: 0;}#sk-container-id-2 div.sk-toggleable {background-color: white;}#sk-container-id-2 label.sk-toggleable__label {cursor: pointer;display: block;width: 100%;margin-bottom: 0;padding: 0.3em;box-sizing: border-box;text-align: center;}#sk-container-id-2 label.sk-toggleable__label-arrow:before {content: \"▸\";float: left;margin-right: 0.25em;color: #696969;}#sk-container-id-2 label.sk-toggleable__label-arrow:hover:before {color: black;}#sk-container-id-2 div.sk-estimator:hover label.sk-toggleable__label-arrow:before {color: black;}#sk-container-id-2 div.sk-toggleable__content {max-height: 0;max-width: 0;overflow: hidden;text-align: left;background-color: #f0f8ff;}#sk-container-id-2 div.sk-toggleable__content pre {margin: 0.2em;color: black;border-radius: 0.25em;background-color: #f0f8ff;}#sk-container-id-2 input.sk-toggleable__control:checked~div.sk-toggleable__content {max-height: 200px;max-width: 100%;overflow: auto;}#sk-container-id-2 input.sk-toggleable__control:checked~label.sk-toggleable__label-arrow:before {content: \"▾\";}#sk-container-id-2 div.sk-estimator input.sk-toggleable__control:checked~label.sk-toggleable__label {background-color: #d4ebff;}#sk-container-id-2 div.sk-label input.sk-toggleable__control:checked~label.sk-toggleable__label {background-color: #d4ebff;}#sk-container-id-2 input.sk-hidden--visually {border: 0;clip: rect(1px 1px 1px 1px);clip: rect(1px, 1px, 1px, 1px);height: 1px;margin: -1px;overflow: hidden;padding: 0;position: absolute;width: 1px;}#sk-container-id-2 div.sk-estimator {font-family: monospace;background-color: #f0f8ff;border: 1px dotted black;border-radius: 0.25em;box-sizing: border-box;margin-bottom: 0.5em;}#sk-container-id-2 div.sk-estimator:hover {background-color: #d4ebff;}#sk-container-id-2 div.sk-parallel-item::after {content: \"\";width: 100%;border-bottom: 1px solid gray;flex-grow: 1;}#sk-container-id-2 div.sk-label:hover label.sk-toggleable__label {background-color: #d4ebff;}#sk-container-id-2 div.sk-serial::before {content: \"\";position: absolute;border-left: 1px solid gray;box-sizing: border-box;top: 0;bottom: 0;left: 50%;z-index: 0;}#sk-container-id-2 div.sk-serial {display: flex;flex-direction: column;align-items: center;background-color: white;padding-right: 0.2em;padding-left: 0.2em;position: relative;}#sk-container-id-2 div.sk-item {position: relative;z-index: 1;}#sk-container-id-2 div.sk-parallel {display: flex;align-items: stretch;justify-content: center;background-color: white;position: relative;}#sk-container-id-2 div.sk-item::before, #sk-container-id-2 div.sk-parallel-item::before {content: \"\";position: absolute;border-left: 1px solid gray;box-sizing: border-box;top: 0;bottom: 0;left: 50%;z-index: -1;}#sk-container-id-2 div.sk-parallel-item {display: flex;flex-direction: column;z-index: 1;position: relative;background-color: white;}#sk-container-id-2 div.sk-parallel-item:first-child::after {align-self: flex-end;width: 50%;}#sk-container-id-2 div.sk-parallel-item:last-child::after {align-self: flex-start;width: 50%;}#sk-container-id-2 div.sk-parallel-item:only-child::after {width: 0;}#sk-container-id-2 div.sk-dashed-wrapped {border: 1px dashed gray;margin: 0 0.4em 0.5em 0.4em;box-sizing: border-box;padding-bottom: 0.4em;background-color: white;}#sk-container-id-2 div.sk-label label {font-family: monospace;font-weight: bold;display: inline-block;line-height: 1.2em;}#sk-container-id-2 div.sk-label-container {text-align: center;}#sk-container-id-2 div.sk-container {/* jupyter's `normalize.less` sets `[hidden] { display: none; }` but bootstrap.min.css set `[hidden] { display: none !important; }` so we also need the `!important` here to be able to override the default hidden behavior on the sphinx rendered scikit-learn.org. See: https://github.com/scikit-learn/scikit-learn/issues/21755 */display: inline-block !important;position: relative;}#sk-container-id-2 div.sk-text-repr-fallback {display: none;}</style><div id=\"sk-container-id-2\" class=\"sk-top-container\"><div class=\"sk-text-repr-fallback\"><pre>LogisticRegression(max_iter=1000)</pre><b>In a Jupyter environment, please rerun this cell to show the HTML representation or trust the notebook. <br />On GitHub, the HTML representation is unable to render, please try loading this page with nbviewer.org.</b></div><div class=\"sk-container\" hidden><div class=\"sk-item\"><div class=\"sk-estimator sk-toggleable\"><input class=\"sk-toggleable__control sk-hidden--visually\" id=\"sk-estimator-id-2\" type=\"checkbox\" checked><label for=\"sk-estimator-id-2\" class=\"sk-toggleable__label sk-toggleable__label-arrow\">LogisticRegression</label><div class=\"sk-toggleable__content\"><pre>LogisticRegression(max_iter=1000)</pre></div></div></div></div></div>"
      ],
      "text/plain": [
       "LogisticRegression(max_iter=1000)"
      ]
     },
     "execution_count": 73,
     "metadata": {},
     "output_type": "execute_result"
    }
   ],
   "source": [
    "model.fit(stemmed_content, sentiment)"
   ]
  },
  {
   "cell_type": "code",
   "execution_count": 74,
   "id": "6a2fb4e7-c2fe-48ca-97ce-0891b8faf478",
   "metadata": {},
   "outputs": [
    {
     "name": "stdout",
     "output_type": "stream",
     "text": [
      "[1 1 0 0 1 1 1 1 1 0 0 0 1 0 0 0 1 1 0 1 1 1 0 1]\n"
     ]
    }
   ],
   "source": [
    "stemmed_tweets_prediction = model.predict(stemmed_tweets)\n",
    "print(stemmed_tweets_prediction)"
   ]
  },
  {
   "cell_type": "code",
   "execution_count": 76,
   "id": "eba439c0-8427-4458-967e-79b0d4c9353a",
   "metadata": {},
   "outputs": [
    {
     "name": "stdout",
     "output_type": "stream",
     "text": [
      "bitcoin : 2\n",
      "ethereum : 4\n",
      "tether USDT : 1\n",
      "BNB : 2\n",
      "solana : 3\n"
     ]
    }
   ],
   "source": [
    "popular_crypto = ['bitcoin', 'ethereum', 'tether USDT', 'BNB', 'solana']\n",
    "for i in range(5):\n",
    "    print(\"%s : %i\" % (popular_crypto[i], (stemmed_tweets_prediction[5*i] + stemmed_tweets_prediction[5*i + 1] + stemmed_tweets_prediction[5*i + 2] + stemmed_tweets_prediction[5*i + 3])))"
   ]
  },
  {
   "cell_type": "code",
   "execution_count": 77,
   "id": "c4624596-7df4-410b-a7b0-0fe8a5a09e18",
   "metadata": {},
   "outputs": [],
   "source": [
    "import pickle\n",
    "filename = 'trained_model.sav'\n",
    "pickle.dump(model, open(filename, 'wb'))"
   ]
  }
 ],
 "metadata": {
  "kernelspec": {
   "display_name": "Python 3",
   "language": "python",
   "name": "python3"
  },
  "language_info": {
   "codemirror_mode": {
    "name": "ipython",
    "version": 3
   },
   "file_extension": ".py",
   "mimetype": "text/x-python",
   "name": "python",
   "nbconvert_exporter": "python",
   "pygments_lexer": "ipython3",
   "version": "3.11.7"
  }
 },
 "nbformat": 4,
 "nbformat_minor": 5
}
